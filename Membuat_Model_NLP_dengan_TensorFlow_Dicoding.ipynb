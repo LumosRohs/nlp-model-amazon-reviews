{
  "nbformat": 4,
  "nbformat_minor": 0,
  "metadata": {
    "colab": {
      "provenance": [],
      "toc_visible": true
    },
    "kernelspec": {
      "name": "python3",
      "display_name": "Python 3"
    },
    "language_info": {
      "name": "python"
    },
    "accelerator": "GPU",
    "gpuClass": "standard"
  },
  "cells": [
    {
      "cell_type": "markdown",
      "source": [
        "# Author\n",
        "## Lingga Rohadyan\n",
        "Dicoding Belajar Pengembangan Machine Learning\n",
        "\n",
        "Proyek Pertama : Membuat Model NLP dengan TensorFlow\n"
      ],
      "metadata": {
        "id": "5NjJijEf5KST"
      }
    },
    {
      "cell_type": "code",
      "source": [
        "import numpy as np\n",
        "import pandas as pd\n",
        "import seaborn as sns\n",
        "import matplotlib.pyplot as plt\n",
        "import tensorflow as tf"
      ],
      "metadata": {
        "id": "ny-MYWRN8M3U"
      },
      "execution_count": 1,
      "outputs": []
    },
    {
      "cell_type": "code",
      "execution_count": 2,
      "metadata": {
        "id": "7rP_mGAf5HWC",
        "colab": {
          "base_uri": "https://localhost:8080/"
        },
        "outputId": "d29cb868-8fd4-4a02-d8d3-0b1861254de5"
      },
      "outputs": [
        {
          "output_type": "stream",
          "name": "stderr",
          "text": [
            "/usr/local/lib/python3.7/dist-packages/IPython/core/interactiveshell.py:3326: FutureWarning: The error_bad_lines argument has been deprecated and will be removed in a future version.\n",
            "\n",
            "\n",
            "  exec(code_obj, self.user_global_ns, self.user_ns)\n"
          ]
        }
      ],
      "source": [
        "dataset1 = pd.read_csv('/content/1429_1.csv', engine='python', error_bad_lines=False)\n",
        "dataset2 = pd.read_csv('/content/Datafiniti_Amazon_Consumer_Reviews_of_Amazon_Products.csv', engine='python', error_bad_lines=False)\n",
        "dataset3 = pd.read_csv('/content/Datafiniti_Amazon_Consumer_Reviews_of_Amazon_Products_May19.csv', engine='python', error_bad_lines=False)"
      ]
    },
    {
      "cell_type": "code",
      "source": [
        "df = pd.concat([dataset1, dataset2, dataset3])"
      ],
      "metadata": {
        "id": "LagT_YQ--cOw"
      },
      "execution_count": 3,
      "outputs": []
    },
    {
      "cell_type": "code",
      "source": [
        "df.info()"
      ],
      "metadata": {
        "id": "2B-qP9gF-YVX",
        "colab": {
          "base_uri": "https://localhost:8080/"
        },
        "outputId": "2b0b6002-d820-467c-aa83-23fc1b95fd7f"
      },
      "execution_count": 4,
      "outputs": [
        {
          "output_type": "stream",
          "name": "stdout",
          "text": [
            "<class 'pandas.core.frame.DataFrame'>\n",
            "Int64Index: 67992 entries, 0 to 28331\n",
            "Data columns (total 27 columns):\n",
            " #   Column                Non-Null Count  Dtype  \n",
            "---  ------                --------------  -----  \n",
            " 0   id                    67992 non-null  object \n",
            " 1   name                  61232 non-null  object \n",
            " 2   asins                 67990 non-null  object \n",
            " 3   brand                 67992 non-null  object \n",
            " 4   categories            67992 non-null  object \n",
            " 5   keys                  67992 non-null  object \n",
            " 6   manufacturer          67992 non-null  object \n",
            " 7   reviews.date          67953 non-null  object \n",
            " 8   reviews.dateAdded     25091 non-null  object \n",
            " 9   reviews.dateSeen      67992 non-null  object \n",
            " 10  reviews.didPurchase   10 non-null     object \n",
            " 11  reviews.doRecommend   55152 non-null  object \n",
            " 12  reviews.id            71 non-null     float64\n",
            " 13  reviews.numHelpful    55246 non-null  float64\n",
            " 14  reviews.rating        67959 non-null  float64\n",
            " 15  reviews.sourceURLs    67992 non-null  object \n",
            " 16  reviews.text          67991 non-null  object \n",
            " 17  reviews.title         67974 non-null  object \n",
            " 18  reviews.userCity      0 non-null      float64\n",
            " 19  reviews.userProvince  0 non-null      float64\n",
            " 20  reviews.username      67990 non-null  object \n",
            " 21  dateAdded             33332 non-null  object \n",
            " 22  dateUpdated           33332 non-null  object \n",
            " 23  primaryCategories     33332 non-null  object \n",
            " 24  imageURLs             33332 non-null  object \n",
            " 25  manufacturerNumber    33332 non-null  object \n",
            " 26  sourceURLs            33332 non-null  object \n",
            "dtypes: float64(5), object(22)\n",
            "memory usage: 14.5+ MB\n"
          ]
        }
      ]
    },
    {
      "cell_type": "code",
      "source": [
        "df.isnull().sum()"
      ],
      "metadata": {
        "colab": {
          "base_uri": "https://localhost:8080/"
        },
        "id": "Ttr0EtvLApLR",
        "outputId": "a5a1572e-2c7a-4c8f-b135-719961df5d8b"
      },
      "execution_count": 5,
      "outputs": [
        {
          "output_type": "execute_result",
          "data": {
            "text/plain": [
              "id                          0\n",
              "name                     6760\n",
              "asins                       2\n",
              "brand                       0\n",
              "categories                  0\n",
              "keys                        0\n",
              "manufacturer                0\n",
              "reviews.date               39\n",
              "reviews.dateAdded       42901\n",
              "reviews.dateSeen            0\n",
              "reviews.didPurchase     67982\n",
              "reviews.doRecommend     12840\n",
              "reviews.id              67921\n",
              "reviews.numHelpful      12746\n",
              "reviews.rating             33\n",
              "reviews.sourceURLs          0\n",
              "reviews.text                1\n",
              "reviews.title              18\n",
              "reviews.userCity        67992\n",
              "reviews.userProvince    67992\n",
              "reviews.username            2\n",
              "dateAdded               34660\n",
              "dateUpdated             34660\n",
              "primaryCategories       34660\n",
              "imageURLs               34660\n",
              "manufacturerNumber      34660\n",
              "sourceURLs              34660\n",
              "dtype: int64"
            ]
          },
          "metadata": {},
          "execution_count": 5
        }
      ]
    },
    {
      "cell_type": "code",
      "source": [
        "df['reviews.rating'] = df['reviews.rating'].fillna('Missing')\n",
        "df['reviews.text'] = df['reviews.text'].fillna('Missing')"
      ],
      "metadata": {
        "id": "jhZYBNavAzH_"
      },
      "execution_count": 6,
      "outputs": []
    },
    {
      "cell_type": "code",
      "source": [
        "df.isnull().sum()"
      ],
      "metadata": {
        "colab": {
          "base_uri": "https://localhost:8080/"
        },
        "id": "-kGCQ3PMA2J_",
        "outputId": "19c6117b-319e-4b47-b655-0b6dfac4c2ce"
      },
      "execution_count": 7,
      "outputs": [
        {
          "output_type": "execute_result",
          "data": {
            "text/plain": [
              "id                          0\n",
              "name                     6760\n",
              "asins                       2\n",
              "brand                       0\n",
              "categories                  0\n",
              "keys                        0\n",
              "manufacturer                0\n",
              "reviews.date               39\n",
              "reviews.dateAdded       42901\n",
              "reviews.dateSeen            0\n",
              "reviews.didPurchase     67982\n",
              "reviews.doRecommend     12840\n",
              "reviews.id              67921\n",
              "reviews.numHelpful      12746\n",
              "reviews.rating              0\n",
              "reviews.sourceURLs          0\n",
              "reviews.text                0\n",
              "reviews.title              18\n",
              "reviews.userCity        67992\n",
              "reviews.userProvince    67992\n",
              "reviews.username            2\n",
              "dateAdded               34660\n",
              "dateUpdated             34660\n",
              "primaryCategories       34660\n",
              "imageURLs               34660\n",
              "manufacturerNumber      34660\n",
              "sourceURLs              34660\n",
              "dtype: int64"
            ]
          },
          "metadata": {},
          "execution_count": 7
        }
      ]
    },
    {
      "cell_type": "code",
      "source": [
        "df.info()"
      ],
      "metadata": {
        "colab": {
          "base_uri": "https://localhost:8080/"
        },
        "id": "lUYpZ6RqA8GN",
        "outputId": "695f0b81-9780-4636-a29e-c2dc6301be2b"
      },
      "execution_count": 8,
      "outputs": [
        {
          "output_type": "stream",
          "name": "stdout",
          "text": [
            "<class 'pandas.core.frame.DataFrame'>\n",
            "Int64Index: 67992 entries, 0 to 28331\n",
            "Data columns (total 27 columns):\n",
            " #   Column                Non-Null Count  Dtype  \n",
            "---  ------                --------------  -----  \n",
            " 0   id                    67992 non-null  object \n",
            " 1   name                  61232 non-null  object \n",
            " 2   asins                 67990 non-null  object \n",
            " 3   brand                 67992 non-null  object \n",
            " 4   categories            67992 non-null  object \n",
            " 5   keys                  67992 non-null  object \n",
            " 6   manufacturer          67992 non-null  object \n",
            " 7   reviews.date          67953 non-null  object \n",
            " 8   reviews.dateAdded     25091 non-null  object \n",
            " 9   reviews.dateSeen      67992 non-null  object \n",
            " 10  reviews.didPurchase   10 non-null     object \n",
            " 11  reviews.doRecommend   55152 non-null  object \n",
            " 12  reviews.id            71 non-null     float64\n",
            " 13  reviews.numHelpful    55246 non-null  float64\n",
            " 14  reviews.rating        67992 non-null  object \n",
            " 15  reviews.sourceURLs    67992 non-null  object \n",
            " 16  reviews.text          67992 non-null  object \n",
            " 17  reviews.title         67974 non-null  object \n",
            " 18  reviews.userCity      0 non-null      float64\n",
            " 19  reviews.userProvince  0 non-null      float64\n",
            " 20  reviews.username      67990 non-null  object \n",
            " 21  dateAdded             33332 non-null  object \n",
            " 22  dateUpdated           33332 non-null  object \n",
            " 23  primaryCategories     33332 non-null  object \n",
            " 24  imageURLs             33332 non-null  object \n",
            " 25  manufacturerNumber    33332 non-null  object \n",
            " 26  sourceURLs            33332 non-null  object \n",
            "dtypes: float64(4), object(23)\n",
            "memory usage: 14.5+ MB\n"
          ]
        }
      ]
    },
    {
      "cell_type": "code",
      "source": [
        "reviews=pd.concat([df['reviews.text'],df['reviews.rating']], axis=1)\n",
        "reviews.head()"
      ],
      "metadata": {
        "colab": {
          "base_uri": "https://localhost:8080/",
          "height": 206
        },
        "id": "5m1lmR4VA_Lb",
        "outputId": "a7592340-7454-4835-cefa-a765d4c431ef"
      },
      "execution_count": 9,
      "outputs": [
        {
          "output_type": "execute_result",
          "data": {
            "text/plain": [
              "                                        reviews.text reviews.rating\n",
              "0  This product so far has not disappointed. My c...            5.0\n",
              "1  great for beginner or experienced person. Boug...            5.0\n",
              "2  Inexpensive tablet for him to use and learn on...            5.0\n",
              "3  I've had my Fire HD 8 two weeks now and I love...            4.0\n",
              "4  I bought this for my grand daughter when she c...            5.0"
            ],
            "text/html": [
              "\n",
              "  <div id=\"df-d72a9d38-f3af-400d-bf84-7c29803fd3e7\">\n",
              "    <div class=\"colab-df-container\">\n",
              "      <div>\n",
              "<style scoped>\n",
              "    .dataframe tbody tr th:only-of-type {\n",
              "        vertical-align: middle;\n",
              "    }\n",
              "\n",
              "    .dataframe tbody tr th {\n",
              "        vertical-align: top;\n",
              "    }\n",
              "\n",
              "    .dataframe thead th {\n",
              "        text-align: right;\n",
              "    }\n",
              "</style>\n",
              "<table border=\"1\" class=\"dataframe\">\n",
              "  <thead>\n",
              "    <tr style=\"text-align: right;\">\n",
              "      <th></th>\n",
              "      <th>reviews.text</th>\n",
              "      <th>reviews.rating</th>\n",
              "    </tr>\n",
              "  </thead>\n",
              "  <tbody>\n",
              "    <tr>\n",
              "      <th>0</th>\n",
              "      <td>This product so far has not disappointed. My c...</td>\n",
              "      <td>5.0</td>\n",
              "    </tr>\n",
              "    <tr>\n",
              "      <th>1</th>\n",
              "      <td>great for beginner or experienced person. Boug...</td>\n",
              "      <td>5.0</td>\n",
              "    </tr>\n",
              "    <tr>\n",
              "      <th>2</th>\n",
              "      <td>Inexpensive tablet for him to use and learn on...</td>\n",
              "      <td>5.0</td>\n",
              "    </tr>\n",
              "    <tr>\n",
              "      <th>3</th>\n",
              "      <td>I've had my Fire HD 8 two weeks now and I love...</td>\n",
              "      <td>4.0</td>\n",
              "    </tr>\n",
              "    <tr>\n",
              "      <th>4</th>\n",
              "      <td>I bought this for my grand daughter when she c...</td>\n",
              "      <td>5.0</td>\n",
              "    </tr>\n",
              "  </tbody>\n",
              "</table>\n",
              "</div>\n",
              "      <button class=\"colab-df-convert\" onclick=\"convertToInteractive('df-d72a9d38-f3af-400d-bf84-7c29803fd3e7')\"\n",
              "              title=\"Convert this dataframe to an interactive table.\"\n",
              "              style=\"display:none;\">\n",
              "        \n",
              "  <svg xmlns=\"http://www.w3.org/2000/svg\" height=\"24px\"viewBox=\"0 0 24 24\"\n",
              "       width=\"24px\">\n",
              "    <path d=\"M0 0h24v24H0V0z\" fill=\"none\"/>\n",
              "    <path d=\"M18.56 5.44l.94 2.06.94-2.06 2.06-.94-2.06-.94-.94-2.06-.94 2.06-2.06.94zm-11 1L8.5 8.5l.94-2.06 2.06-.94-2.06-.94L8.5 2.5l-.94 2.06-2.06.94zm10 10l.94 2.06.94-2.06 2.06-.94-2.06-.94-.94-2.06-.94 2.06-2.06.94z\"/><path d=\"M17.41 7.96l-1.37-1.37c-.4-.4-.92-.59-1.43-.59-.52 0-1.04.2-1.43.59L10.3 9.45l-7.72 7.72c-.78.78-.78 2.05 0 2.83L4 21.41c.39.39.9.59 1.41.59.51 0 1.02-.2 1.41-.59l7.78-7.78 2.81-2.81c.8-.78.8-2.07 0-2.86zM5.41 20L4 18.59l7.72-7.72 1.47 1.35L5.41 20z\"/>\n",
              "  </svg>\n",
              "      </button>\n",
              "      \n",
              "  <style>\n",
              "    .colab-df-container {\n",
              "      display:flex;\n",
              "      flex-wrap:wrap;\n",
              "      gap: 12px;\n",
              "    }\n",
              "\n",
              "    .colab-df-convert {\n",
              "      background-color: #E8F0FE;\n",
              "      border: none;\n",
              "      border-radius: 50%;\n",
              "      cursor: pointer;\n",
              "      display: none;\n",
              "      fill: #1967D2;\n",
              "      height: 32px;\n",
              "      padding: 0 0 0 0;\n",
              "      width: 32px;\n",
              "    }\n",
              "\n",
              "    .colab-df-convert:hover {\n",
              "      background-color: #E2EBFA;\n",
              "      box-shadow: 0px 1px 2px rgba(60, 64, 67, 0.3), 0px 1px 3px 1px rgba(60, 64, 67, 0.15);\n",
              "      fill: #174EA6;\n",
              "    }\n",
              "\n",
              "    [theme=dark] .colab-df-convert {\n",
              "      background-color: #3B4455;\n",
              "      fill: #D2E3FC;\n",
              "    }\n",
              "\n",
              "    [theme=dark] .colab-df-convert:hover {\n",
              "      background-color: #434B5C;\n",
              "      box-shadow: 0px 1px 3px 1px rgba(0, 0, 0, 0.15);\n",
              "      filter: drop-shadow(0px 1px 2px rgba(0, 0, 0, 0.3));\n",
              "      fill: #FFFFFF;\n",
              "    }\n",
              "  </style>\n",
              "\n",
              "      <script>\n",
              "        const buttonEl =\n",
              "          document.querySelector('#df-d72a9d38-f3af-400d-bf84-7c29803fd3e7 button.colab-df-convert');\n",
              "        buttonEl.style.display =\n",
              "          google.colab.kernel.accessAllowed ? 'block' : 'none';\n",
              "\n",
              "        async function convertToInteractive(key) {\n",
              "          const element = document.querySelector('#df-d72a9d38-f3af-400d-bf84-7c29803fd3e7');\n",
              "          const dataTable =\n",
              "            await google.colab.kernel.invokeFunction('convertToInteractive',\n",
              "                                                     [key], {});\n",
              "          if (!dataTable) return;\n",
              "\n",
              "          const docLinkHtml = 'Like what you see? Visit the ' +\n",
              "            '<a target=\"_blank\" href=https://colab.research.google.com/notebooks/data_table.ipynb>data table notebook</a>'\n",
              "            + ' to learn more about interactive tables.';\n",
              "          element.innerHTML = '';\n",
              "          dataTable['output_type'] = 'display_data';\n",
              "          await google.colab.output.renderOutput(dataTable, element);\n",
              "          const docLink = document.createElement('div');\n",
              "          docLink.innerHTML = docLinkHtml;\n",
              "          element.appendChild(docLink);\n",
              "        }\n",
              "      </script>\n",
              "    </div>\n",
              "  </div>\n",
              "  "
            ]
          },
          "metadata": {},
          "execution_count": 9
        }
      ]
    },
    {
      "cell_type": "code",
      "source": [
        "reviews.info()"
      ],
      "metadata": {
        "colab": {
          "base_uri": "https://localhost:8080/"
        },
        "id": "LRrPf5znBqT6",
        "outputId": "da8864bf-e22c-44eb-c181-a0484f222d83"
      },
      "execution_count": 10,
      "outputs": [
        {
          "output_type": "stream",
          "name": "stdout",
          "text": [
            "<class 'pandas.core.frame.DataFrame'>\n",
            "Int64Index: 67992 entries, 0 to 28331\n",
            "Data columns (total 2 columns):\n",
            " #   Column          Non-Null Count  Dtype \n",
            "---  ------          --------------  ----- \n",
            " 0   reviews.text    67992 non-null  object\n",
            " 1   reviews.rating  67992 non-null  object\n",
            "dtypes: object(2)\n",
            "memory usage: 1.6+ MB\n"
          ]
        }
      ]
    },
    {
      "cell_type": "code",
      "source": [
        "reviews['reviews.rating'].value_counts()"
      ],
      "metadata": {
        "colab": {
          "base_uri": "https://localhost:8080/"
        },
        "id": "9-v56Re8BwT5",
        "outputId": "0a000403-b421-4f23-b6e4-2ac724d7c280"
      },
      "execution_count": 11,
      "outputs": [
        {
          "output_type": "execute_result",
          "data": {
            "text/plain": [
              "5.0        47150\n",
              "4.0        15397\n",
              "3.0         2902\n",
              "1.0         1438\n",
              "2.0         1072\n",
              "Missing       33\n",
              "Name: reviews.rating, dtype: int64"
            ]
          },
          "metadata": {},
          "execution_count": 11
        }
      ]
    },
    {
      "cell_type": "code",
      "source": [
        "new_review = reviews[reviews['reviews.rating'] != 'http://reviews.bestbuy.com/3545/5620406/reviews.htm?format=embedded&page=36,http://reviews.bestbuy.com/3545/5620406/reviews.htm?format=embedded&page=69,http://reviews.bestbuy.com/3545/5538501/reviews.htm?format=embedded&page=100,http://reviews.bestbuy.com/3545/5538501/reviews.htm?format=embedded&page=34,http://reviews.bestbuy.com/3545/5538501/reviews.htm?format=embedded&page=69']\n",
        "new_review"
      ],
      "metadata": {
        "colab": {
          "base_uri": "https://localhost:8080/",
          "height": 424
        },
        "id": "DyrZ8qQbCs4m",
        "outputId": "ddea3c80-5b7c-41a0-ba96-6d3d604bb2c0"
      },
      "execution_count": 12,
      "outputs": [
        {
          "output_type": "execute_result",
          "data": {
            "text/plain": [
              "                                            reviews.text reviews.rating\n",
              "0      This product so far has not disappointed. My c...            5.0\n",
              "1      great for beginner or experienced person. Boug...            5.0\n",
              "2      Inexpensive tablet for him to use and learn on...            5.0\n",
              "3      I've had my Fire HD 8 two weeks now and I love...            4.0\n",
              "4      I bought this for my grand daughter when she c...            5.0\n",
              "...                                                  ...            ...\n",
              "28327  I got 2 of these for my 8 yr old twins. My 11 ...            5.0\n",
              "28328  I bought this for my niece for a Christmas gif...            4.0\n",
              "28329  Very nice for light internet browsing, keeping...            5.0\n",
              "28330  This Tablet does absolutely everything I want!...            5.0\n",
              "28331  At ninety dollars, the expectionations are low...            4.0\n",
              "\n",
              "[67992 rows x 2 columns]"
            ],
            "text/html": [
              "\n",
              "  <div id=\"df-6580f08d-aaf9-42cf-b211-e3a937c7b3ac\">\n",
              "    <div class=\"colab-df-container\">\n",
              "      <div>\n",
              "<style scoped>\n",
              "    .dataframe tbody tr th:only-of-type {\n",
              "        vertical-align: middle;\n",
              "    }\n",
              "\n",
              "    .dataframe tbody tr th {\n",
              "        vertical-align: top;\n",
              "    }\n",
              "\n",
              "    .dataframe thead th {\n",
              "        text-align: right;\n",
              "    }\n",
              "</style>\n",
              "<table border=\"1\" class=\"dataframe\">\n",
              "  <thead>\n",
              "    <tr style=\"text-align: right;\">\n",
              "      <th></th>\n",
              "      <th>reviews.text</th>\n",
              "      <th>reviews.rating</th>\n",
              "    </tr>\n",
              "  </thead>\n",
              "  <tbody>\n",
              "    <tr>\n",
              "      <th>0</th>\n",
              "      <td>This product so far has not disappointed. My c...</td>\n",
              "      <td>5.0</td>\n",
              "    </tr>\n",
              "    <tr>\n",
              "      <th>1</th>\n",
              "      <td>great for beginner or experienced person. Boug...</td>\n",
              "      <td>5.0</td>\n",
              "    </tr>\n",
              "    <tr>\n",
              "      <th>2</th>\n",
              "      <td>Inexpensive tablet for him to use and learn on...</td>\n",
              "      <td>5.0</td>\n",
              "    </tr>\n",
              "    <tr>\n",
              "      <th>3</th>\n",
              "      <td>I've had my Fire HD 8 two weeks now and I love...</td>\n",
              "      <td>4.0</td>\n",
              "    </tr>\n",
              "    <tr>\n",
              "      <th>4</th>\n",
              "      <td>I bought this for my grand daughter when she c...</td>\n",
              "      <td>5.0</td>\n",
              "    </tr>\n",
              "    <tr>\n",
              "      <th>...</th>\n",
              "      <td>...</td>\n",
              "      <td>...</td>\n",
              "    </tr>\n",
              "    <tr>\n",
              "      <th>28327</th>\n",
              "      <td>I got 2 of these for my 8 yr old twins. My 11 ...</td>\n",
              "      <td>5.0</td>\n",
              "    </tr>\n",
              "    <tr>\n",
              "      <th>28328</th>\n",
              "      <td>I bought this for my niece for a Christmas gif...</td>\n",
              "      <td>4.0</td>\n",
              "    </tr>\n",
              "    <tr>\n",
              "      <th>28329</th>\n",
              "      <td>Very nice for light internet browsing, keeping...</td>\n",
              "      <td>5.0</td>\n",
              "    </tr>\n",
              "    <tr>\n",
              "      <th>28330</th>\n",
              "      <td>This Tablet does absolutely everything I want!...</td>\n",
              "      <td>5.0</td>\n",
              "    </tr>\n",
              "    <tr>\n",
              "      <th>28331</th>\n",
              "      <td>At ninety dollars, the expectionations are low...</td>\n",
              "      <td>4.0</td>\n",
              "    </tr>\n",
              "  </tbody>\n",
              "</table>\n",
              "<p>67992 rows × 2 columns</p>\n",
              "</div>\n",
              "      <button class=\"colab-df-convert\" onclick=\"convertToInteractive('df-6580f08d-aaf9-42cf-b211-e3a937c7b3ac')\"\n",
              "              title=\"Convert this dataframe to an interactive table.\"\n",
              "              style=\"display:none;\">\n",
              "        \n",
              "  <svg xmlns=\"http://www.w3.org/2000/svg\" height=\"24px\"viewBox=\"0 0 24 24\"\n",
              "       width=\"24px\">\n",
              "    <path d=\"M0 0h24v24H0V0z\" fill=\"none\"/>\n",
              "    <path d=\"M18.56 5.44l.94 2.06.94-2.06 2.06-.94-2.06-.94-.94-2.06-.94 2.06-2.06.94zm-11 1L8.5 8.5l.94-2.06 2.06-.94-2.06-.94L8.5 2.5l-.94 2.06-2.06.94zm10 10l.94 2.06.94-2.06 2.06-.94-2.06-.94-.94-2.06-.94 2.06-2.06.94z\"/><path d=\"M17.41 7.96l-1.37-1.37c-.4-.4-.92-.59-1.43-.59-.52 0-1.04.2-1.43.59L10.3 9.45l-7.72 7.72c-.78.78-.78 2.05 0 2.83L4 21.41c.39.39.9.59 1.41.59.51 0 1.02-.2 1.41-.59l7.78-7.78 2.81-2.81c.8-.78.8-2.07 0-2.86zM5.41 20L4 18.59l7.72-7.72 1.47 1.35L5.41 20z\"/>\n",
              "  </svg>\n",
              "      </button>\n",
              "      \n",
              "  <style>\n",
              "    .colab-df-container {\n",
              "      display:flex;\n",
              "      flex-wrap:wrap;\n",
              "      gap: 12px;\n",
              "    }\n",
              "\n",
              "    .colab-df-convert {\n",
              "      background-color: #E8F0FE;\n",
              "      border: none;\n",
              "      border-radius: 50%;\n",
              "      cursor: pointer;\n",
              "      display: none;\n",
              "      fill: #1967D2;\n",
              "      height: 32px;\n",
              "      padding: 0 0 0 0;\n",
              "      width: 32px;\n",
              "    }\n",
              "\n",
              "    .colab-df-convert:hover {\n",
              "      background-color: #E2EBFA;\n",
              "      box-shadow: 0px 1px 2px rgba(60, 64, 67, 0.3), 0px 1px 3px 1px rgba(60, 64, 67, 0.15);\n",
              "      fill: #174EA6;\n",
              "    }\n",
              "\n",
              "    [theme=dark] .colab-df-convert {\n",
              "      background-color: #3B4455;\n",
              "      fill: #D2E3FC;\n",
              "    }\n",
              "\n",
              "    [theme=dark] .colab-df-convert:hover {\n",
              "      background-color: #434B5C;\n",
              "      box-shadow: 0px 1px 3px 1px rgba(0, 0, 0, 0.15);\n",
              "      filter: drop-shadow(0px 1px 2px rgba(0, 0, 0, 0.3));\n",
              "      fill: #FFFFFF;\n",
              "    }\n",
              "  </style>\n",
              "\n",
              "      <script>\n",
              "        const buttonEl =\n",
              "          document.querySelector('#df-6580f08d-aaf9-42cf-b211-e3a937c7b3ac button.colab-df-convert');\n",
              "        buttonEl.style.display =\n",
              "          google.colab.kernel.accessAllowed ? 'block' : 'none';\n",
              "\n",
              "        async function convertToInteractive(key) {\n",
              "          const element = document.querySelector('#df-6580f08d-aaf9-42cf-b211-e3a937c7b3ac');\n",
              "          const dataTable =\n",
              "            await google.colab.kernel.invokeFunction('convertToInteractive',\n",
              "                                                     [key], {});\n",
              "          if (!dataTable) return;\n",
              "\n",
              "          const docLinkHtml = 'Like what you see? Visit the ' +\n",
              "            '<a target=\"_blank\" href=https://colab.research.google.com/notebooks/data_table.ipynb>data table notebook</a>'\n",
              "            + ' to learn more about interactive tables.';\n",
              "          element.innerHTML = '';\n",
              "          dataTable['output_type'] = 'display_data';\n",
              "          await google.colab.output.renderOutput(dataTable, element);\n",
              "          const docLink = document.createElement('div');\n",
              "          docLink.innerHTML = docLinkHtml;\n",
              "          element.appendChild(docLink);\n",
              "        }\n",
              "      </script>\n",
              "    </div>\n",
              "  </div>\n",
              "  "
            ]
          },
          "metadata": {},
          "execution_count": 12
        }
      ]
    },
    {
      "cell_type": "code",
      "source": [
        "new_review['reviews.rating'].value_counts()"
      ],
      "metadata": {
        "colab": {
          "base_uri": "https://localhost:8080/"
        },
        "id": "BcZSwIZeEnT2",
        "outputId": "eeee612e-2f94-4549-8dd7-d8283e1cf434"
      },
      "execution_count": 13,
      "outputs": [
        {
          "output_type": "execute_result",
          "data": {
            "text/plain": [
              "5.0        47150\n",
              "4.0        15397\n",
              "3.0         2902\n",
              "1.0         1438\n",
              "2.0         1072\n",
              "Missing       33\n",
              "Name: reviews.rating, dtype: int64"
            ]
          },
          "metadata": {},
          "execution_count": 13
        }
      ]
    },
    {
      "cell_type": "code",
      "source": [
        "review = new_review.replace({5.0 : 5, 4.0 : 4, 3.0 : 3, 2.0 : 2, 1.0 : 1, '5' : 5, '4' : 4, '3' : 3, '2' : 2, '1' : 1})"
      ],
      "metadata": {
        "id": "jQxj8jNFEutH"
      },
      "execution_count": 14,
      "outputs": []
    },
    {
      "cell_type": "code",
      "source": [
        "review"
      ],
      "metadata": {
        "colab": {
          "base_uri": "https://localhost:8080/",
          "height": 424
        },
        "id": "4ciRNyaSFVq6",
        "outputId": "29fe395f-a918-4119-8846-a72622371f73"
      },
      "execution_count": 15,
      "outputs": [
        {
          "output_type": "execute_result",
          "data": {
            "text/plain": [
              "                                            reviews.text reviews.rating\n",
              "0      This product so far has not disappointed. My c...              5\n",
              "1      great for beginner or experienced person. Boug...              5\n",
              "2      Inexpensive tablet for him to use and learn on...              5\n",
              "3      I've had my Fire HD 8 two weeks now and I love...              4\n",
              "4      I bought this for my grand daughter when she c...              5\n",
              "...                                                  ...            ...\n",
              "28327  I got 2 of these for my 8 yr old twins. My 11 ...              5\n",
              "28328  I bought this for my niece for a Christmas gif...              4\n",
              "28329  Very nice for light internet browsing, keeping...              5\n",
              "28330  This Tablet does absolutely everything I want!...              5\n",
              "28331  At ninety dollars, the expectionations are low...              4\n",
              "\n",
              "[67992 rows x 2 columns]"
            ],
            "text/html": [
              "\n",
              "  <div id=\"df-00d3a8e6-7c44-4b81-9edb-5f4dac159a01\">\n",
              "    <div class=\"colab-df-container\">\n",
              "      <div>\n",
              "<style scoped>\n",
              "    .dataframe tbody tr th:only-of-type {\n",
              "        vertical-align: middle;\n",
              "    }\n",
              "\n",
              "    .dataframe tbody tr th {\n",
              "        vertical-align: top;\n",
              "    }\n",
              "\n",
              "    .dataframe thead th {\n",
              "        text-align: right;\n",
              "    }\n",
              "</style>\n",
              "<table border=\"1\" class=\"dataframe\">\n",
              "  <thead>\n",
              "    <tr style=\"text-align: right;\">\n",
              "      <th></th>\n",
              "      <th>reviews.text</th>\n",
              "      <th>reviews.rating</th>\n",
              "    </tr>\n",
              "  </thead>\n",
              "  <tbody>\n",
              "    <tr>\n",
              "      <th>0</th>\n",
              "      <td>This product so far has not disappointed. My c...</td>\n",
              "      <td>5</td>\n",
              "    </tr>\n",
              "    <tr>\n",
              "      <th>1</th>\n",
              "      <td>great for beginner or experienced person. Boug...</td>\n",
              "      <td>5</td>\n",
              "    </tr>\n",
              "    <tr>\n",
              "      <th>2</th>\n",
              "      <td>Inexpensive tablet for him to use and learn on...</td>\n",
              "      <td>5</td>\n",
              "    </tr>\n",
              "    <tr>\n",
              "      <th>3</th>\n",
              "      <td>I've had my Fire HD 8 two weeks now and I love...</td>\n",
              "      <td>4</td>\n",
              "    </tr>\n",
              "    <tr>\n",
              "      <th>4</th>\n",
              "      <td>I bought this for my grand daughter when she c...</td>\n",
              "      <td>5</td>\n",
              "    </tr>\n",
              "    <tr>\n",
              "      <th>...</th>\n",
              "      <td>...</td>\n",
              "      <td>...</td>\n",
              "    </tr>\n",
              "    <tr>\n",
              "      <th>28327</th>\n",
              "      <td>I got 2 of these for my 8 yr old twins. My 11 ...</td>\n",
              "      <td>5</td>\n",
              "    </tr>\n",
              "    <tr>\n",
              "      <th>28328</th>\n",
              "      <td>I bought this for my niece for a Christmas gif...</td>\n",
              "      <td>4</td>\n",
              "    </tr>\n",
              "    <tr>\n",
              "      <th>28329</th>\n",
              "      <td>Very nice for light internet browsing, keeping...</td>\n",
              "      <td>5</td>\n",
              "    </tr>\n",
              "    <tr>\n",
              "      <th>28330</th>\n",
              "      <td>This Tablet does absolutely everything I want!...</td>\n",
              "      <td>5</td>\n",
              "    </tr>\n",
              "    <tr>\n",
              "      <th>28331</th>\n",
              "      <td>At ninety dollars, the expectionations are low...</td>\n",
              "      <td>4</td>\n",
              "    </tr>\n",
              "  </tbody>\n",
              "</table>\n",
              "<p>67992 rows × 2 columns</p>\n",
              "</div>\n",
              "      <button class=\"colab-df-convert\" onclick=\"convertToInteractive('df-00d3a8e6-7c44-4b81-9edb-5f4dac159a01')\"\n",
              "              title=\"Convert this dataframe to an interactive table.\"\n",
              "              style=\"display:none;\">\n",
              "        \n",
              "  <svg xmlns=\"http://www.w3.org/2000/svg\" height=\"24px\"viewBox=\"0 0 24 24\"\n",
              "       width=\"24px\">\n",
              "    <path d=\"M0 0h24v24H0V0z\" fill=\"none\"/>\n",
              "    <path d=\"M18.56 5.44l.94 2.06.94-2.06 2.06-.94-2.06-.94-.94-2.06-.94 2.06-2.06.94zm-11 1L8.5 8.5l.94-2.06 2.06-.94-2.06-.94L8.5 2.5l-.94 2.06-2.06.94zm10 10l.94 2.06.94-2.06 2.06-.94-2.06-.94-.94-2.06-.94 2.06-2.06.94z\"/><path d=\"M17.41 7.96l-1.37-1.37c-.4-.4-.92-.59-1.43-.59-.52 0-1.04.2-1.43.59L10.3 9.45l-7.72 7.72c-.78.78-.78 2.05 0 2.83L4 21.41c.39.39.9.59 1.41.59.51 0 1.02-.2 1.41-.59l7.78-7.78 2.81-2.81c.8-.78.8-2.07 0-2.86zM5.41 20L4 18.59l7.72-7.72 1.47 1.35L5.41 20z\"/>\n",
              "  </svg>\n",
              "      </button>\n",
              "      \n",
              "  <style>\n",
              "    .colab-df-container {\n",
              "      display:flex;\n",
              "      flex-wrap:wrap;\n",
              "      gap: 12px;\n",
              "    }\n",
              "\n",
              "    .colab-df-convert {\n",
              "      background-color: #E8F0FE;\n",
              "      border: none;\n",
              "      border-radius: 50%;\n",
              "      cursor: pointer;\n",
              "      display: none;\n",
              "      fill: #1967D2;\n",
              "      height: 32px;\n",
              "      padding: 0 0 0 0;\n",
              "      width: 32px;\n",
              "    }\n",
              "\n",
              "    .colab-df-convert:hover {\n",
              "      background-color: #E2EBFA;\n",
              "      box-shadow: 0px 1px 2px rgba(60, 64, 67, 0.3), 0px 1px 3px 1px rgba(60, 64, 67, 0.15);\n",
              "      fill: #174EA6;\n",
              "    }\n",
              "\n",
              "    [theme=dark] .colab-df-convert {\n",
              "      background-color: #3B4455;\n",
              "      fill: #D2E3FC;\n",
              "    }\n",
              "\n",
              "    [theme=dark] .colab-df-convert:hover {\n",
              "      background-color: #434B5C;\n",
              "      box-shadow: 0px 1px 3px 1px rgba(0, 0, 0, 0.15);\n",
              "      filter: drop-shadow(0px 1px 2px rgba(0, 0, 0, 0.3));\n",
              "      fill: #FFFFFF;\n",
              "    }\n",
              "  </style>\n",
              "\n",
              "      <script>\n",
              "        const buttonEl =\n",
              "          document.querySelector('#df-00d3a8e6-7c44-4b81-9edb-5f4dac159a01 button.colab-df-convert');\n",
              "        buttonEl.style.display =\n",
              "          google.colab.kernel.accessAllowed ? 'block' : 'none';\n",
              "\n",
              "        async function convertToInteractive(key) {\n",
              "          const element = document.querySelector('#df-00d3a8e6-7c44-4b81-9edb-5f4dac159a01');\n",
              "          const dataTable =\n",
              "            await google.colab.kernel.invokeFunction('convertToInteractive',\n",
              "                                                     [key], {});\n",
              "          if (!dataTable) return;\n",
              "\n",
              "          const docLinkHtml = 'Like what you see? Visit the ' +\n",
              "            '<a target=\"_blank\" href=https://colab.research.google.com/notebooks/data_table.ipynb>data table notebook</a>'\n",
              "            + ' to learn more about interactive tables.';\n",
              "          element.innerHTML = '';\n",
              "          dataTable['output_type'] = 'display_data';\n",
              "          await google.colab.output.renderOutput(dataTable, element);\n",
              "          const docLink = document.createElement('div');\n",
              "          docLink.innerHTML = docLinkHtml;\n",
              "          element.appendChild(docLink);\n",
              "        }\n",
              "      </script>\n",
              "    </div>\n",
              "  </div>\n",
              "  "
            ]
          },
          "metadata": {},
          "execution_count": 15
        }
      ]
    },
    {
      "cell_type": "code",
      "source": [
        "review['reviews.rating'].value_counts()"
      ],
      "metadata": {
        "colab": {
          "base_uri": "https://localhost:8080/"
        },
        "id": "XkbPZkJkQueG",
        "outputId": "fdbaa9f4-31cf-4a35-dd68-36c398e3fdd7"
      },
      "execution_count": 16,
      "outputs": [
        {
          "output_type": "execute_result",
          "data": {
            "text/plain": [
              "5          47150\n",
              "4          15397\n",
              "3           2902\n",
              "1           1438\n",
              "2           1072\n",
              "Missing       33\n",
              "Name: reviews.rating, dtype: int64"
            ]
          },
          "metadata": {},
          "execution_count": 16
        }
      ]
    },
    {
      "cell_type": "code",
      "source": [
        "sns.countplot(data = review, x = 'reviews.rating')\n",
        "plt.show()"
      ],
      "metadata": {
        "colab": {
          "base_uri": "https://localhost:8080/",
          "height": 279
        },
        "id": "UOeV9es1VDSE",
        "outputId": "f9356353-81fa-4aa0-89c3-1322d2d74cd5"
      },
      "execution_count": 17,
      "outputs": [
        {
          "output_type": "display_data",
          "data": {
            "text/plain": [
              "<Figure size 432x288 with 1 Axes>"
            ],
            "image/png": "[encoded data removed]"
          },
          "metadata": {
            "needs_background": "light"
          }
        }
      ]
    },
    {
      "cell_type": "code",
      "source": [
        "plt.figure(figsize = (10, 10))\n",
        "label=[5,4,3,2,1,'Missing']\n",
        "plt.pie(review['reviews.rating'].value_counts(), autopct='%0.2f%%')\n",
        "plt.legend(label, ncol=6, loc=9)\n",
        "plt.title('Diagram Rating', size=14, y=-0.01)\n",
        "plt.show()"
      ],
      "metadata": {
        "colab": {
          "base_uri": "https://localhost:8080/",
          "height": 577
        },
        "id": "uK69ivCqVv2R",
        "outputId": "043e6b12-aead-46b9-ae44-c83341a8e0a4"
      },
      "execution_count": 18,
      "outputs": [
        {
          "output_type": "display_data",
          "data": {
            "text/plain": [
              "<Figure size 720x720 with 1 Axes>"
            ],
            "image/png": "[encoded data removed]"
          },
          "metadata": {}
        }
      ]
    },
    {
      "cell_type": "code",
      "source": [
        "labels = {'Missing' : 'Missing',\n",
        "          1: 0,\n",
        "          2: 0,\n",
        "          3: 1,\n",
        "          4: 2,\n",
        "          5: 2}"
      ],
      "metadata": {
        "id": "rrERSkmxNwDA"
      },
      "execution_count": 19,
      "outputs": []
    },
    {
      "cell_type": "code",
      "source": [
        "review['reviews.rating'] = review['reviews.rating'].map(labels)\n",
        "review['reviews.text'] = review['reviews.text'].map(str)\n",
        "\n",
        "#removing missing\n",
        "review = review[review['reviews.rating'] != 'Missing']\n",
        "\n",
        "r_text = review['reviews.text']\n",
        "label = review['reviews.rating'].astype(int)"
      ],
      "metadata": {
        "id": "Unneq6BZN5M0"
      },
      "execution_count": 20,
      "outputs": []
    },
    {
      "cell_type": "code",
      "source": [
        "r_text"
      ],
      "metadata": {
        "colab": {
          "base_uri": "https://localhost:8080/"
        },
        "id": "HWKtZ3L-kunm",
        "outputId": "f5c8435b-d31e-4089-80af-23325c4db177"
      },
      "execution_count": 21,
      "outputs": [
        {
          "output_type": "execute_result",
          "data": {
            "text/plain": [
              "0        This product so far has not disappointed. My c...\n",
              "1        great for beginner or experienced person. Boug...\n",
              "2        Inexpensive tablet for him to use and learn on...\n",
              "3        I've had my Fire HD 8 two weeks now and I love...\n",
              "4        I bought this for my grand daughter when she c...\n",
              "                               ...                        \n",
              "28327    I got 2 of these for my 8 yr old twins. My 11 ...\n",
              "28328    I bought this for my niece for a Christmas gif...\n",
              "28329    Very nice for light internet browsing, keeping...\n",
              "28330    This Tablet does absolutely everything I want!...\n",
              "28331    At ninety dollars, the expectionations are low...\n",
              "Name: reviews.text, Length: 67959, dtype: object"
            ]
          },
          "metadata": {},
          "execution_count": 21
        }
      ]
    },
    {
      "cell_type": "code",
      "source": [
        "label"
      ],
      "metadata": {
        "colab": {
          "base_uri": "https://localhost:8080/"
        },
        "id": "p_ntPtUEdOsM",
        "outputId": "945dd63b-aea6-4e9a-a035-5d2310c5efab"
      },
      "execution_count": 22,
      "outputs": [
        {
          "output_type": "execute_result",
          "data": {
            "text/plain": [
              "0        2\n",
              "1        2\n",
              "2        2\n",
              "3        2\n",
              "4        2\n",
              "        ..\n",
              "28327    2\n",
              "28328    2\n",
              "28329    2\n",
              "28330    2\n",
              "28331    2\n",
              "Name: reviews.rating, Length: 67959, dtype: int64"
            ]
          },
          "metadata": {},
          "execution_count": 22
        }
      ]
    },
    {
      "cell_type": "code",
      "source": [
        "from sklearn.model_selection import train_test_split\n",
        "review_latih, review_test, label_latih, label_test = train_test_split(r_text, label, test_size=0.2)"
      ],
      "metadata": {
        "id": "MmR7tP2lSeW1"
      },
      "execution_count": 23,
      "outputs": []
    },
    {
      "cell_type": "code",
      "source": [
        "from keras.preprocessing.text import Tokenizer\n",
        "from keras.preprocessing.sequence import pad_sequences\n",
        "\n",
        "tokenizer = Tokenizer(num_words=5000, oov_token='x')\n",
        "tokenizer.fit_on_texts(review_latih) \n",
        "tokenizer.fit_on_texts(review_test)\n",
        "\n",
        "sekuens_latih = tokenizer.texts_to_sequences(review_latih)\n",
        "sekuens_test = tokenizer.texts_to_sequences(review_test)\n",
        "\n",
        "padded_latih = pad_sequences(sekuens_latih) \n",
        "padded_test = pad_sequences(sekuens_test)"
      ],
      "metadata": {
        "id": "EkCF-lFzSrZv"
      },
      "execution_count": 24,
      "outputs": []
    },
    {
      "cell_type": "code",
      "source": [
        "model = tf.keras.Sequential([\n",
        "    tf.keras.layers.Embedding(input_dim=5000, output_dim=16),\n",
        "    tf.keras.layers.LSTM(64),\n",
        "    tf.keras.layers.Dense(128, activation='relu'),\n",
        "])\n",
        "model.compile(loss='sparse_categorical_crossentropy',optimizer='adam',metrics=['accuracy'])"
      ],
      "metadata": {
        "id": "dNjOXvAKUQkF"
      },
      "execution_count": 25,
      "outputs": []
    },
    {
      "cell_type": "code",
      "source": [
        "model.summary()"
      ],
      "metadata": {
        "colab": {
          "base_uri": "https://localhost:8080/"
        },
        "id": "SzgqYvR3lsTq",
        "outputId": "f42fa803-4c6b-4892-d4ba-94bd915a5503"
      },
      "execution_count": 26,
      "outputs": [
        {
          "output_type": "stream",
          "name": "stdout",
          "text": [
            "Model: \"sequential\"\n",
            "_________________________________________________________________\n",
            " Layer (type)                Output Shape              Param #   \n",
            "=================================================================\n",
            " embedding (Embedding)       (None, None, 16)          80000     \n",
            "                                                                 \n",
            " lstm (LSTM)                 (None, 64)                20736     \n",
            "                                                                 \n",
            " dense (Dense)               (None, 128)               8320      \n",
            "                                                                 \n",
            "=================================================================\n",
            "Total params: 109,056\n",
            "Trainable params: 109,056\n",
            "Non-trainable params: 0\n",
            "_________________________________________________________________\n"
          ]
        }
      ]
    },
    {
      "cell_type": "code",
      "source": [
        "class myCallback(tf.keras.callbacks.Callback):\n",
        "  def on_epoch_end(self, epoch, logs={}):\n",
        "    if(logs.get('accuracy')>0.95):\n",
        "      print(\"\\nAkurasi telah mencapai >95%!\")\n",
        "      self.model.stop_training = True\n",
        "callbacks = myCallback()"
      ],
      "metadata": {
        "id": "TBzXcdidwkIr"
      },
      "execution_count": 27,
      "outputs": []
    },
    {
      "cell_type": "code",
      "source": [
        "num_epochs = 30\n",
        "history = model.fit(padded_latih, label_latih, epochs=num_epochs, batch_size=512, validation_data=(padded_test, label_test), verbose=2, callbacks=[callbacks])"
      ],
      "metadata": {
        "colab": {
          "base_uri": "https://localhost:8080/"
        },
        "id": "-VvmWgFgUUht",
        "outputId": "35f4cd4a-b83c-48e7-c736-1762154c67eb"
      },
      "execution_count": 28,
      "outputs": [
        {
          "output_type": "stream",
          "name": "stdout",
          "text": [
            "Epoch 1/30\n",
            "107/107 - 18s - loss: 0.5392 - accuracy: 0.9080 - val_loss: 0.4424 - val_accuracy: 0.9192 - 18s/epoch - 167ms/step\n",
            "Epoch 2/30\n",
            "107/107 - 14s - loss: 0.3563 - accuracy: 0.9207 - val_loss: 0.3054 - val_accuracy: 0.9192 - 14s/epoch - 135ms/step\n",
            "Epoch 3/30\n",
            "107/107 - 15s - loss: 0.2651 - accuracy: 0.9207 - val_loss: 0.3054 - val_accuracy: 0.9192 - 15s/epoch - 136ms/step\n",
            "Epoch 4/30\n",
            "107/107 - 15s - loss: 0.3390 - accuracy: 0.9215 - val_loss: 0.3081 - val_accuracy: 0.9192 - 15s/epoch - 136ms/step\n",
            "Epoch 5/30\n",
            "107/107 - 14s - loss: 0.2477 - accuracy: 0.9219 - val_loss: 0.3013 - val_accuracy: 0.9239 - 14s/epoch - 134ms/step\n",
            "Epoch 6/30\n",
            "107/107 - 15s - loss: 0.2312 - accuracy: 0.9309 - val_loss: 0.3239 - val_accuracy: 0.9280 - 15s/epoch - 145ms/step\n",
            "Epoch 7/30\n",
            "107/107 - 14s - loss: 0.2377 - accuracy: 0.9325 - val_loss: 0.3532 - val_accuracy: 0.9300 - 14s/epoch - 133ms/step\n",
            "Epoch 8/30\n",
            "107/107 - 14s - loss: 0.2063 - accuracy: 0.9374 - val_loss: 0.3221 - val_accuracy: 0.9340 - 14s/epoch - 134ms/step\n",
            "Epoch 9/30\n",
            "107/107 - 14s - loss: 0.1879 - accuracy: 0.9418 - val_loss: 0.3276 - val_accuracy: 0.9346 - 14s/epoch - 135ms/step\n",
            "Epoch 10/30\n",
            "107/107 - 15s - loss: 0.1758 - accuracy: 0.9461 - val_loss: 0.3369 - val_accuracy: 0.9339 - 15s/epoch - 136ms/step\n",
            "Epoch 11/30\n",
            "107/107 - 14s - loss: 0.1954 - accuracy: 0.9389 - val_loss: 0.3377 - val_accuracy: 0.9348 - 14s/epoch - 135ms/step\n",
            "Epoch 12/30\n",
            "\n",
            "Akurasi telah mencapai >95%!\n",
            "107/107 - 15s - loss: 0.1666 - accuracy: 0.9510 - val_loss: 0.3872 - val_accuracy: 0.9365 - 15s/epoch - 136ms/step\n"
          ]
        }
      ]
    },
    {
      "cell_type": "code",
      "source": [
        "test_loss, test_acc = model.evaluate(padded_test, label_test)\n",
        "\n",
        "print('Test Loss:', test_loss)\n",
        "print('Test Accuracy:', test_acc)"
      ],
      "metadata": {
        "colab": {
          "base_uri": "https://localhost:8080/"
        },
        "id": "qWkgSAHAxiUx",
        "outputId": "d954bdd3-9d0c-46cf-e8c6-cca750e9dd53"
      },
      "execution_count": 29,
      "outputs": [
        {
          "output_type": "stream",
          "name": "stdout",
          "text": [
            "425/425 [==============================] - 9s 21ms/step - loss: 0.3872 - accuracy: 0.9365\n",
            "Test Loss: 0.38724446296691895\n",
            "Test Accuracy: 0.9365067481994629\n"
          ]
        }
      ]
    },
    {
      "cell_type": "code",
      "source": [
        "plt.plot(history.history['accuracy'])\n",
        "plt.plot(history.history['val_accuracy'])\n",
        "plt.title('Akurasi Model')\n",
        "plt.ylabel('accuracy')\n",
        "plt.xlabel('epoch')\n",
        "plt.legend(['train', 'test'], loc='upper left')\n",
        "plt.show()"
      ],
      "metadata": {
        "colab": {
          "base_uri": "https://localhost:8080/",
          "height": 295
        },
        "id": "Ea3ZvVtEym5j",
        "outputId": "06e427b2-9914-4929-fef5-f6d1be6adf43"
      },
      "execution_count": 30,
      "outputs": [
        {
          "output_type": "display_data",
          "data": {
            "text/plain": [
              "<Figure size 432x288 with 1 Axes>"
            ],
            "image/png": "[encoded data removed]"
          },
          "metadata": {
            "needs_background": "light"
          }
        }
      ]
    },
    {
      "cell_type": "code",
      "source": [
        "plt.plot(history.history['loss'])\n",
        "plt.plot(history.history['val_loss'])\n",
        "plt.title('Loss Model')\n",
        "plt.ylabel('loss')\n",
        "plt.xlabel('epoch')\n",
        "plt.legend(['train', 'test'], loc='upper left')\n",
        "plt.show()"
      ],
      "metadata": {
        "colab": {
          "base_uri": "https://localhost:8080/",
          "height": 295
        },
        "id": "m0rvTU9h0eWQ",
        "outputId": "60f0c7ca-7b1a-4634-fb98-6d454398b571"
      },
      "execution_count": 31,
      "outputs": [
        {
          "output_type": "display_data",
          "data": {
            "text/plain": [
              "<Figure size 432x288 with 1 Axes>"
            ],
            "image/png": "[encoded data removed]"
          },
          "metadata": {
            "needs_background": "light"
          }
        }
      ]
    }
  ]
}